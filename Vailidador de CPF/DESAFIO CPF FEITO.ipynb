{
 "cells": [
  {
   "cell_type": "code",
   "execution_count": 5,
   "id": "38b014be",
   "metadata": {},
   "outputs": [
    {
     "name": "stdout",
     "output_type": "stream",
     "text": [
      "Informe seu CPF: 12345678901\n",
      "12345678901\n",
      "<class 'str'>\n",
      "Seu CPF é inválido.\n"
     ]
    }
   ],
   "source": [
    "cpf_inputado = input('Informe seu CPF: ')\n",
    "cpf = cpf_inputado\n",
    "cpf = cpf.replace('.','')\n",
    "cpf = cpf.replace('-','')\n",
    "cpf_inicial=cpf\n",
    "print(cpf_inicial) \n",
    "print(type(cpf_inicial))\n",
    "cpf = cpf[0:9]\n",
    "\n",
    "\n",
    "contador = 10\n",
    "soma = 0\n",
    "acumulador = 0\n",
    "for numero in cpf:\n",
    "    acumulador = int(numero) * contador\n",
    "    contador -= 1\n",
    "    soma = soma + acumulador\n",
    "\n",
    "soma = 11 - (soma % 11)\n",
    "if soma > 9:\n",
    "    soma = 0\n",
    "\n",
    "cpf_res = cpf + str(soma)\n",
    "\n",
    "contador = 11\n",
    "soma = 0\n",
    "acumulador = 0\n",
    "for numero in cpf:\n",
    "    acumulador = int(numero) * contador\n",
    "    contador -= 1\n",
    "    soma = soma + acumulador\n",
    "    \n",
    "soma = 11 - (soma % 11)\n",
    "if soma > 9:\n",
    "    soma = 0\n",
    "\n",
    "cpf_res = cpf + str(soma)\n",
    "\n",
    "\n",
    "if cpf_res == cpf_inicial:\n",
    "    print('Seu CPF é válido.')\n",
    "else:\n",
    "    print('Seu CPF é inválido.')\n"
   ]
  },
  {
   "cell_type": "code",
   "execution_count": null,
   "id": "79fda508",
   "metadata": {},
   "outputs": [],
   "source": []
  }
 ],
 "metadata": {
  "kernelspec": {
   "display_name": "Python 3 (ipykernel)",
   "language": "python",
   "name": "python3"
  },
  "language_info": {
   "codemirror_mode": {
    "name": "ipython",
    "version": 3
   },
   "file_extension": ".py",
   "mimetype": "text/x-python",
   "name": "python",
   "nbconvert_exporter": "python",
   "pygments_lexer": "ipython3",
   "version": "3.8.10"
  }
 },
 "nbformat": 4,
 "nbformat_minor": 5
}
